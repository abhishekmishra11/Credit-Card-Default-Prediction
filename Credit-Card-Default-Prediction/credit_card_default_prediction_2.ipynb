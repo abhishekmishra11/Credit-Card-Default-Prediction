{
 "cells": [
  {
   "cell_type": "code",
   "execution_count": 1,
   "metadata": {},
   "outputs": [],
   "source": [
    "import numpy as np\n",
    "import matplotlib.pyplot as plt\n",
    "import pandas as pd\n",
    "from sklearn.model_selection import cross_val_score"
   ]
  },
  {
   "cell_type": "code",
   "execution_count": 2,
   "metadata": {},
   "outputs": [
    {
     "data": {
      "text/html": [
       "<div>\n",
       "<style scoped>\n",
       "    .dataframe tbody tr th:only-of-type {\n",
       "        vertical-align: middle;\n",
       "    }\n",
       "\n",
       "    .dataframe tbody tr th {\n",
       "        vertical-align: top;\n",
       "    }\n",
       "\n",
       "    .dataframe thead th {\n",
       "        text-align: right;\n",
       "    }\n",
       "</style>\n",
       "<table border=\"1\" class=\"dataframe\">\n",
       "  <thead>\n",
       "    <tr style=\"text-align: right;\">\n",
       "      <th></th>\n",
       "      <th>ID</th>\n",
       "      <th>LIMIT_BAL</th>\n",
       "      <th>SEX</th>\n",
       "      <th>EDUCATION</th>\n",
       "      <th>MARRIAGE</th>\n",
       "      <th>AGE</th>\n",
       "      <th>PAY_0</th>\n",
       "      <th>PAY_2</th>\n",
       "      <th>PAY_3</th>\n",
       "      <th>PAY_4</th>\n",
       "      <th>...</th>\n",
       "      <th>BILL_AMT4</th>\n",
       "      <th>BILL_AMT5</th>\n",
       "      <th>BILL_AMT6</th>\n",
       "      <th>PAY_AMT1</th>\n",
       "      <th>PAY_AMT2</th>\n",
       "      <th>PAY_AMT3</th>\n",
       "      <th>PAY_AMT4</th>\n",
       "      <th>PAY_AMT5</th>\n",
       "      <th>PAY_AMT6</th>\n",
       "      <th>default payment next month</th>\n",
       "    </tr>\n",
       "  </thead>\n",
       "  <tbody>\n",
       "    <tr>\n",
       "      <th>0</th>\n",
       "      <td>1</td>\n",
       "      <td>20000</td>\n",
       "      <td>2</td>\n",
       "      <td>2</td>\n",
       "      <td>1</td>\n",
       "      <td>24</td>\n",
       "      <td>2</td>\n",
       "      <td>2</td>\n",
       "      <td>-1</td>\n",
       "      <td>-1</td>\n",
       "      <td>...</td>\n",
       "      <td>0</td>\n",
       "      <td>0</td>\n",
       "      <td>0</td>\n",
       "      <td>0</td>\n",
       "      <td>689</td>\n",
       "      <td>0</td>\n",
       "      <td>0</td>\n",
       "      <td>0</td>\n",
       "      <td>0</td>\n",
       "      <td>1</td>\n",
       "    </tr>\n",
       "    <tr>\n",
       "      <th>1</th>\n",
       "      <td>2</td>\n",
       "      <td>120000</td>\n",
       "      <td>2</td>\n",
       "      <td>2</td>\n",
       "      <td>2</td>\n",
       "      <td>26</td>\n",
       "      <td>-1</td>\n",
       "      <td>2</td>\n",
       "      <td>0</td>\n",
       "      <td>0</td>\n",
       "      <td>...</td>\n",
       "      <td>3272</td>\n",
       "      <td>3455</td>\n",
       "      <td>3261</td>\n",
       "      <td>0</td>\n",
       "      <td>1000</td>\n",
       "      <td>1000</td>\n",
       "      <td>1000</td>\n",
       "      <td>0</td>\n",
       "      <td>2000</td>\n",
       "      <td>1</td>\n",
       "    </tr>\n",
       "    <tr>\n",
       "      <th>2</th>\n",
       "      <td>3</td>\n",
       "      <td>90000</td>\n",
       "      <td>2</td>\n",
       "      <td>2</td>\n",
       "      <td>2</td>\n",
       "      <td>34</td>\n",
       "      <td>0</td>\n",
       "      <td>0</td>\n",
       "      <td>0</td>\n",
       "      <td>0</td>\n",
       "      <td>...</td>\n",
       "      <td>14331</td>\n",
       "      <td>14948</td>\n",
       "      <td>15549</td>\n",
       "      <td>1518</td>\n",
       "      <td>1500</td>\n",
       "      <td>1000</td>\n",
       "      <td>1000</td>\n",
       "      <td>1000</td>\n",
       "      <td>5000</td>\n",
       "      <td>0</td>\n",
       "    </tr>\n",
       "    <tr>\n",
       "      <th>3</th>\n",
       "      <td>4</td>\n",
       "      <td>50000</td>\n",
       "      <td>2</td>\n",
       "      <td>2</td>\n",
       "      <td>1</td>\n",
       "      <td>37</td>\n",
       "      <td>0</td>\n",
       "      <td>0</td>\n",
       "      <td>0</td>\n",
       "      <td>0</td>\n",
       "      <td>...</td>\n",
       "      <td>28314</td>\n",
       "      <td>28959</td>\n",
       "      <td>29547</td>\n",
       "      <td>2000</td>\n",
       "      <td>2019</td>\n",
       "      <td>1200</td>\n",
       "      <td>1100</td>\n",
       "      <td>1069</td>\n",
       "      <td>1000</td>\n",
       "      <td>0</td>\n",
       "    </tr>\n",
       "    <tr>\n",
       "      <th>4</th>\n",
       "      <td>5</td>\n",
       "      <td>50000</td>\n",
       "      <td>1</td>\n",
       "      <td>2</td>\n",
       "      <td>1</td>\n",
       "      <td>57</td>\n",
       "      <td>-1</td>\n",
       "      <td>0</td>\n",
       "      <td>-1</td>\n",
       "      <td>0</td>\n",
       "      <td>...</td>\n",
       "      <td>20940</td>\n",
       "      <td>19146</td>\n",
       "      <td>19131</td>\n",
       "      <td>2000</td>\n",
       "      <td>36681</td>\n",
       "      <td>10000</td>\n",
       "      <td>9000</td>\n",
       "      <td>689</td>\n",
       "      <td>679</td>\n",
       "      <td>0</td>\n",
       "    </tr>\n",
       "  </tbody>\n",
       "</table>\n",
       "<p>5 rows × 25 columns</p>\n",
       "</div>"
      ],
      "text/plain": [
       "   ID  LIMIT_BAL  SEX  EDUCATION  MARRIAGE  AGE  PAY_0  PAY_2  PAY_3  PAY_4  \\\n",
       "0   1      20000    2          2         1   24      2      2     -1     -1   \n",
       "1   2     120000    2          2         2   26     -1      2      0      0   \n",
       "2   3      90000    2          2         2   34      0      0      0      0   \n",
       "3   4      50000    2          2         1   37      0      0      0      0   \n",
       "4   5      50000    1          2         1   57     -1      0     -1      0   \n",
       "\n",
       "              ...              BILL_AMT4  BILL_AMT5  BILL_AMT6  PAY_AMT1  \\\n",
       "0             ...                      0          0          0         0   \n",
       "1             ...                   3272       3455       3261         0   \n",
       "2             ...                  14331      14948      15549      1518   \n",
       "3             ...                  28314      28959      29547      2000   \n",
       "4             ...                  20940      19146      19131      2000   \n",
       "\n",
       "   PAY_AMT2  PAY_AMT3  PAY_AMT4  PAY_AMT5  PAY_AMT6  \\\n",
       "0       689         0         0         0         0   \n",
       "1      1000      1000      1000         0      2000   \n",
       "2      1500      1000      1000      1000      5000   \n",
       "3      2019      1200      1100      1069      1000   \n",
       "4     36681     10000      9000       689       679   \n",
       "\n",
       "   default payment next month  \n",
       "0                           1  \n",
       "1                           1  \n",
       "2                           0  \n",
       "3                           0  \n",
       "4                           0  \n",
       "\n",
       "[5 rows x 25 columns]"
      ]
     },
     "execution_count": 2,
     "metadata": {},
     "output_type": "execute_result"
    }
   ],
   "source": [
    "data = pd.read_csv('default of credit card clients.csv', header=1)\n",
    "data.head()"
   ]
  },
  {
   "cell_type": "code",
   "execution_count": 3,
   "metadata": {},
   "outputs": [
    {
     "data": {
      "text/plain": [
       "Index(['ID', 'LIMIT_BAL', 'SEX', 'EDUCATION', 'MARRIAGE', 'AGE', 'PAY_0',\n",
       "       'PAY_2', 'PAY_3', 'PAY_4', 'PAY_5', 'PAY_6', 'BILL_AMT1', 'BILL_AMT2',\n",
       "       'BILL_AMT3', 'BILL_AMT4', 'BILL_AMT5', 'BILL_AMT6', 'PAY_AMT1',\n",
       "       'PAY_AMT2', 'PAY_AMT3', 'PAY_AMT4', 'PAY_AMT5', 'PAY_AMT6',\n",
       "       'default payment next month'],\n",
       "      dtype='object')"
      ]
     },
     "execution_count": 3,
     "metadata": {},
     "output_type": "execute_result"
    }
   ],
   "source": [
    "k = data.columns\n",
    "k"
   ]
  },
  {
   "cell_type": "code",
   "execution_count": 4,
   "metadata": {},
   "outputs": [],
   "source": [
    "X = data.iloc[:,:-1].values\n",
    "y = data.iloc[:,24].values"
   ]
  },
  {
   "cell_type": "code",
   "execution_count": 5,
   "metadata": {},
   "outputs": [
    {
     "data": {
      "text/plain": [
       "(30000, 25)"
      ]
     },
     "execution_count": 5,
     "metadata": {},
     "output_type": "execute_result"
    }
   ],
   "source": [
    "data.shape"
   ]
  },
  {
   "cell_type": "code",
   "execution_count": 6,
   "metadata": {},
   "outputs": [
    {
     "data": {
      "text/plain": [
       "array([[     1,      1,  20000, ...,      0,      0,      0],\n",
       "       [     1,      2, 120000, ...,   1000,      0,   2000],\n",
       "       [     1,      3,  90000, ...,   1000,   1000,   5000],\n",
       "       ...,\n",
       "       [     1,  29998,  30000, ...,   4200,   2000,   3100],\n",
       "       [     1,  29999,  80000, ...,   1926,  52964,   1804],\n",
       "       [     1,  30000,  50000, ...,   1000,   1000,   1000]], dtype=int64)"
      ]
     },
     "execution_count": 6,
     "metadata": {},
     "output_type": "execute_result"
    }
   ],
   "source": [
    "import statsmodels.formula.api as sm\n",
    "X = np.append(arr=np.ones((30000,1)).astype(int), values=X, axis=1)\n",
    "X"
   ]
  },
  {
   "cell_type": "code",
   "execution_count": 7,
   "metadata": {},
   "outputs": [
    {
     "data": {
      "text/html": [
       "<table class=\"simpletable\">\n",
       "<caption>OLS Regression Results</caption>\n",
       "<tr>\n",
       "  <th>Dep. Variable:</th>            <td>y</td>        <th>  R-squared:         </th> <td>   0.124</td> \n",
       "</tr>\n",
       "<tr>\n",
       "  <th>Model:</th>                   <td>OLS</td>       <th>  Adj. R-squared:    </th> <td>   0.123</td> \n",
       "</tr>\n",
       "<tr>\n",
       "  <th>Method:</th>             <td>Least Squares</td>  <th>  F-statistic:       </th> <td>   176.8</td> \n",
       "</tr>\n",
       "<tr>\n",
       "  <th>Date:</th>             <td>Thu, 31 May 2018</td> <th>  Prob (F-statistic):</th>  <td>  0.00</td>  \n",
       "</tr>\n",
       "<tr>\n",
       "  <th>Time:</th>                 <td>08:47:03</td>     <th>  Log-Likelihood:    </th> <td> -14202.</td> \n",
       "</tr>\n",
       "<tr>\n",
       "  <th>No. Observations:</th>      <td> 30000</td>      <th>  AIC:               </th> <td>2.845e+04</td>\n",
       "</tr>\n",
       "<tr>\n",
       "  <th>Df Residuals:</th>          <td> 29975</td>      <th>  BIC:               </th> <td>2.866e+04</td>\n",
       "</tr>\n",
       "<tr>\n",
       "  <th>Df Model:</th>              <td>    24</td>      <th>                     </th>     <td> </td>    \n",
       "</tr>\n",
       "<tr>\n",
       "  <th>Covariance Type:</th>      <td>nonrobust</td>    <th>                     </th>     <td> </td>    \n",
       "</tr>\n",
       "</table>\n",
       "<table class=\"simpletable\">\n",
       "<tr>\n",
       "    <td></td>       <th>coef</th>     <th>std err</th>      <th>t</th>      <th>P>|t|</th>  <th>[0.025</th>    <th>0.975]</th>  \n",
       "</tr>\n",
       "<tr>\n",
       "  <th>const</th> <td>    0.3151</td> <td>    0.018</td> <td>   17.245</td> <td> 0.000</td> <td>    0.279</td> <td>    0.351</td>\n",
       "</tr>\n",
       "<tr>\n",
       "  <th>x1</th>    <td>-6.681e-08</td> <td> 2.61e-07</td> <td>   -0.256</td> <td> 0.798</td> <td>-5.78e-07</td> <td> 4.45e-07</td>\n",
       "</tr>\n",
       "<tr>\n",
       "  <th>x2</th>    <td>-9.046e-08</td> <td> 2.16e-08</td> <td>   -4.190</td> <td> 0.000</td> <td>-1.33e-07</td> <td>-4.81e-08</td>\n",
       "</tr>\n",
       "<tr>\n",
       "  <th>x3</th>    <td>   -0.0145</td> <td>    0.005</td> <td>   -3.126</td> <td> 0.002</td> <td>   -0.024</td> <td>   -0.005</td>\n",
       "</tr>\n",
       "<tr>\n",
       "  <th>x4</th>    <td>   -0.0151</td> <td>    0.003</td> <td>   -5.007</td> <td> 0.000</td> <td>   -0.021</td> <td>   -0.009</td>\n",
       "</tr>\n",
       "<tr>\n",
       "  <th>x5</th>    <td>   -0.0238</td> <td>    0.005</td> <td>   -5.000</td> <td> 0.000</td> <td>   -0.033</td> <td>   -0.014</td>\n",
       "</tr>\n",
       "<tr>\n",
       "  <th>x6</th>    <td>    0.0014</td> <td>    0.000</td> <td>    5.128</td> <td> 0.000</td> <td>    0.001</td> <td>    0.002</td>\n",
       "</tr>\n",
       "<tr>\n",
       "  <th>x7</th>    <td>    0.0957</td> <td>    0.003</td> <td>   34.575</td> <td> 0.000</td> <td>    0.090</td> <td>    0.101</td>\n",
       "</tr>\n",
       "<tr>\n",
       "  <th>x8</th>    <td>    0.0195</td> <td>    0.003</td> <td>    5.831</td> <td> 0.000</td> <td>    0.013</td> <td>    0.026</td>\n",
       "</tr>\n",
       "<tr>\n",
       "  <th>x9</th>    <td>    0.0117</td> <td>    0.004</td> <td>    3.250</td> <td> 0.001</td> <td>    0.005</td> <td>    0.019</td>\n",
       "</tr>\n",
       "<tr>\n",
       "  <th>x10</th>   <td>    0.0034</td> <td>    0.004</td> <td>    0.855</td> <td> 0.393</td> <td>   -0.004</td> <td>    0.011</td>\n",
       "</tr>\n",
       "<tr>\n",
       "  <th>x11</th>   <td>    0.0057</td> <td>    0.004</td> <td>    1.316</td> <td> 0.188</td> <td>   -0.003</td> <td>    0.014</td>\n",
       "</tr>\n",
       "<tr>\n",
       "  <th>x12</th>   <td>    0.0008</td> <td>    0.004</td> <td>    0.224</td> <td> 0.822</td> <td>   -0.006</td> <td>    0.008</td>\n",
       "</tr>\n",
       "<tr>\n",
       "  <th>x13</th>   <td>-6.224e-07</td> <td> 1.14e-07</td> <td>   -5.453</td> <td> 0.000</td> <td>-8.46e-07</td> <td>-3.99e-07</td>\n",
       "</tr>\n",
       "<tr>\n",
       "  <th>x14</th>   <td>  1.58e-07</td> <td>  1.6e-07</td> <td>    0.985</td> <td> 0.325</td> <td>-1.56e-07</td> <td> 4.72e-07</td>\n",
       "</tr>\n",
       "<tr>\n",
       "  <th>x15</th>   <td>  3.02e-08</td> <td> 1.51e-07</td> <td>    0.200</td> <td> 0.841</td> <td>-2.66e-07</td> <td> 3.26e-07</td>\n",
       "</tr>\n",
       "<tr>\n",
       "  <th>x16</th>   <td>-6.503e-08</td> <td> 1.58e-07</td> <td>   -0.412</td> <td> 0.680</td> <td>-3.74e-07</td> <td> 2.44e-07</td>\n",
       "</tr>\n",
       "<tr>\n",
       "  <th>x17</th>   <td>-2.294e-08</td> <td> 1.85e-07</td> <td>   -0.124</td> <td> 0.901</td> <td>-3.85e-07</td> <td> 3.39e-07</td>\n",
       "</tr>\n",
       "<tr>\n",
       "  <th>x18</th>   <td> 1.155e-07</td> <td> 1.46e-07</td> <td>    0.791</td> <td> 0.429</td> <td>-1.71e-07</td> <td> 4.02e-07</td>\n",
       "</tr>\n",
       "<tr>\n",
       "  <th>x19</th>   <td>-7.436e-07</td> <td> 1.77e-07</td> <td>   -4.200</td> <td> 0.000</td> <td>-1.09e-06</td> <td>-3.97e-07</td>\n",
       "</tr>\n",
       "<tr>\n",
       "  <th>x20</th>   <td>-2.098e-07</td> <td> 1.46e-07</td> <td>   -1.440</td> <td> 0.150</td> <td>-4.95e-07</td> <td> 7.57e-08</td>\n",
       "</tr>\n",
       "<tr>\n",
       "  <th>x21</th>   <td> -2.83e-08</td> <td> 1.69e-07</td> <td>   -0.168</td> <td> 0.867</td> <td>-3.59e-07</td> <td> 3.03e-07</td>\n",
       "</tr>\n",
       "<tr>\n",
       "  <th>x22</th>   <td>-2.504e-07</td> <td> 1.84e-07</td> <td>   -1.361</td> <td> 0.174</td> <td>-6.11e-07</td> <td>  1.1e-07</td>\n",
       "</tr>\n",
       "<tr>\n",
       "  <th>x23</th>   <td>-3.417e-07</td> <td> 1.91e-07</td> <td>   -1.791</td> <td> 0.073</td> <td>-7.16e-07</td> <td> 3.23e-08</td>\n",
       "</tr>\n",
       "<tr>\n",
       "  <th>x24</th>   <td>-9.802e-08</td> <td> 1.37e-07</td> <td>   -0.718</td> <td> 0.473</td> <td>-3.66e-07</td> <td>  1.7e-07</td>\n",
       "</tr>\n",
       "</table>\n",
       "<table class=\"simpletable\">\n",
       "<tr>\n",
       "  <th>Omnibus:</th>       <td>4681.677</td> <th>  Durbin-Watson:     </th> <td>   2.013</td>\n",
       "</tr>\n",
       "<tr>\n",
       "  <th>Prob(Omnibus):</th>  <td> 0.000</td>  <th>  Jarque-Bera (JB):  </th> <td>7284.526</td>\n",
       "</tr>\n",
       "<tr>\n",
       "  <th>Skew:</th>           <td> 1.204</td>  <th>  Prob(JB):          </th> <td>    0.00</td>\n",
       "</tr>\n",
       "<tr>\n",
       "  <th>Kurtosis:</th>       <td> 3.178</td>  <th>  Cond. No.          </th> <td>2.15e+06</td>\n",
       "</tr>\n",
       "</table>"
      ],
      "text/plain": [
       "<class 'statsmodels.iolib.summary.Summary'>\n",
       "\"\"\"\n",
       "                            OLS Regression Results                            \n",
       "==============================================================================\n",
       "Dep. Variable:                      y   R-squared:                       0.124\n",
       "Model:                            OLS   Adj. R-squared:                  0.123\n",
       "Method:                 Least Squares   F-statistic:                     176.8\n",
       "Date:                Thu, 31 May 2018   Prob (F-statistic):               0.00\n",
       "Time:                        08:47:03   Log-Likelihood:                -14202.\n",
       "No. Observations:               30000   AIC:                         2.845e+04\n",
       "Df Residuals:                   29975   BIC:                         2.866e+04\n",
       "Df Model:                          24                                         \n",
       "Covariance Type:            nonrobust                                         \n",
       "==============================================================================\n",
       "                 coef    std err          t      P>|t|      [0.025      0.975]\n",
       "------------------------------------------------------------------------------\n",
       "const          0.3151      0.018     17.245      0.000       0.279       0.351\n",
       "x1         -6.681e-08   2.61e-07     -0.256      0.798   -5.78e-07    4.45e-07\n",
       "x2         -9.046e-08   2.16e-08     -4.190      0.000   -1.33e-07   -4.81e-08\n",
       "x3            -0.0145      0.005     -3.126      0.002      -0.024      -0.005\n",
       "x4            -0.0151      0.003     -5.007      0.000      -0.021      -0.009\n",
       "x5            -0.0238      0.005     -5.000      0.000      -0.033      -0.014\n",
       "x6             0.0014      0.000      5.128      0.000       0.001       0.002\n",
       "x7             0.0957      0.003     34.575      0.000       0.090       0.101\n",
       "x8             0.0195      0.003      5.831      0.000       0.013       0.026\n",
       "x9             0.0117      0.004      3.250      0.001       0.005       0.019\n",
       "x10            0.0034      0.004      0.855      0.393      -0.004       0.011\n",
       "x11            0.0057      0.004      1.316      0.188      -0.003       0.014\n",
       "x12            0.0008      0.004      0.224      0.822      -0.006       0.008\n",
       "x13        -6.224e-07   1.14e-07     -5.453      0.000   -8.46e-07   -3.99e-07\n",
       "x14          1.58e-07    1.6e-07      0.985      0.325   -1.56e-07    4.72e-07\n",
       "x15          3.02e-08   1.51e-07      0.200      0.841   -2.66e-07    3.26e-07\n",
       "x16        -6.503e-08   1.58e-07     -0.412      0.680   -3.74e-07    2.44e-07\n",
       "x17        -2.294e-08   1.85e-07     -0.124      0.901   -3.85e-07    3.39e-07\n",
       "x18         1.155e-07   1.46e-07      0.791      0.429   -1.71e-07    4.02e-07\n",
       "x19        -7.436e-07   1.77e-07     -4.200      0.000   -1.09e-06   -3.97e-07\n",
       "x20        -2.098e-07   1.46e-07     -1.440      0.150   -4.95e-07    7.57e-08\n",
       "x21         -2.83e-08   1.69e-07     -0.168      0.867   -3.59e-07    3.03e-07\n",
       "x22        -2.504e-07   1.84e-07     -1.361      0.174   -6.11e-07     1.1e-07\n",
       "x23        -3.417e-07   1.91e-07     -1.791      0.073   -7.16e-07    3.23e-08\n",
       "x24        -9.802e-08   1.37e-07     -0.718      0.473   -3.66e-07     1.7e-07\n",
       "==============================================================================\n",
       "Omnibus:                     4681.677   Durbin-Watson:                   2.013\n",
       "Prob(Omnibus):                  0.000   Jarque-Bera (JB):             7284.526\n",
       "Skew:                           1.204   Prob(JB):                         0.00\n",
       "Kurtosis:                       3.178   Cond. No.                     2.15e+06\n",
       "==============================================================================\n",
       "\n",
       "Warnings:\n",
       "[1] Standard Errors assume that the covariance matrix of the errors is correctly specified.\n",
       "[2] The condition number is large, 2.15e+06. This might indicate that there are\n",
       "strong multicollinearity or other numerical problems.\n",
       "\"\"\""
      ]
     },
     "execution_count": 7,
     "metadata": {},
     "output_type": "execute_result"
    }
   ],
   "source": [
    "X_opt = X[:, [0,1,2,3,4,5,6,7,8,9,10,11,12,13,14,15,16,17,18,19,20,21,22,23,24]]\n",
    "reg_ols = sm.OLS(endog=y, exog=X_opt).fit() \n",
    "reg_ols.summary()"
   ]
  },
  {
   "cell_type": "code",
   "execution_count": 8,
   "metadata": {},
   "outputs": [],
   "source": [
    "# 2,13,16,18,22,17,11"
   ]
  },
  {
   "cell_type": "code",
   "execution_count": 9,
   "metadata": {
    "scrolled": true
   },
   "outputs": [
    {
     "data": {
      "text/html": [
       "<table class=\"simpletable\">\n",
       "<caption>OLS Regression Results</caption>\n",
       "<tr>\n",
       "  <th>Dep. Variable:</th>            <td>y</td>        <th>  R-squared:         </th> <td>   0.122</td> \n",
       "</tr>\n",
       "<tr>\n",
       "  <th>Model:</th>                   <td>OLS</td>       <th>  Adj. R-squared:    </th> <td>   0.122</td> \n",
       "</tr>\n",
       "<tr>\n",
       "  <th>Method:</th>             <td>Least Squares</td>  <th>  F-statistic:       </th> <td>   260.7</td> \n",
       "</tr>\n",
       "<tr>\n",
       "  <th>Date:</th>             <td>Thu, 31 May 2018</td> <th>  Prob (F-statistic):</th>  <td>  0.00</td>  \n",
       "</tr>\n",
       "<tr>\n",
       "  <th>Time:</th>                 <td>08:47:03</td>     <th>  Log-Likelihood:    </th> <td> -14234.</td> \n",
       "</tr>\n",
       "<tr>\n",
       "  <th>No. Observations:</th>      <td> 30000</td>      <th>  AIC:               </th> <td>2.850e+04</td>\n",
       "</tr>\n",
       "<tr>\n",
       "  <th>Df Residuals:</th>          <td> 29983</td>      <th>  BIC:               </th> <td>2.864e+04</td>\n",
       "</tr>\n",
       "<tr>\n",
       "  <th>Df Model:</th>              <td>    16</td>      <th>                     </th>     <td> </td>    \n",
       "</tr>\n",
       "<tr>\n",
       "  <th>Covariance Type:</th>      <td>nonrobust</td>    <th>                     </th>     <td> </td>    \n",
       "</tr>\n",
       "</table>\n",
       "<table class=\"simpletable\">\n",
       "<tr>\n",
       "    <td></td>       <th>coef</th>     <th>std err</th>      <th>t</th>      <th>P>|t|</th>  <th>[0.025</th>    <th>0.975]</th>  \n",
       "</tr>\n",
       "<tr>\n",
       "  <th>const</th> <td>    0.3004</td> <td>    0.018</td> <td>   16.658</td> <td> 0.000</td> <td>    0.265</td> <td>    0.336</td>\n",
       "</tr>\n",
       "<tr>\n",
       "  <th>x1</th>    <td>-1.091e-07</td> <td>  2.6e-07</td> <td>   -0.419</td> <td> 0.675</td> <td>-6.19e-07</td> <td> 4.01e-07</td>\n",
       "</tr>\n",
       "<tr>\n",
       "  <th>x2</th>    <td>   -0.0147</td> <td>    0.005</td> <td>   -3.172</td> <td> 0.002</td> <td>   -0.024</td> <td>   -0.006</td>\n",
       "</tr>\n",
       "<tr>\n",
       "  <th>x3</th>    <td>   -0.0122</td> <td>    0.003</td> <td>   -4.170</td> <td> 0.000</td> <td>   -0.018</td> <td>   -0.006</td>\n",
       "</tr>\n",
       "<tr>\n",
       "  <th>x4</th>    <td>   -0.0221</td> <td>    0.005</td> <td>   -4.653</td> <td> 0.000</td> <td>   -0.031</td> <td>   -0.013</td>\n",
       "</tr>\n",
       "<tr>\n",
       "  <th>x5</th>    <td>    0.0013</td> <td>    0.000</td> <td>    4.598</td> <td> 0.000</td> <td>    0.001</td> <td>    0.002</td>\n",
       "</tr>\n",
       "<tr>\n",
       "  <th>x6</th>    <td>    0.0970</td> <td>    0.003</td> <td>   35.179</td> <td> 0.000</td> <td>    0.092</td> <td>    0.102</td>\n",
       "</tr>\n",
       "<tr>\n",
       "  <th>x7</th>    <td>    0.0208</td> <td>    0.003</td> <td>    6.315</td> <td> 0.000</td> <td>    0.014</td> <td>    0.027</td>\n",
       "</tr>\n",
       "<tr>\n",
       "  <th>x8</th>    <td>    0.0130</td> <td>    0.004</td> <td>    3.655</td> <td> 0.000</td> <td>    0.006</td> <td>    0.020</td>\n",
       "</tr>\n",
       "<tr>\n",
       "  <th>x9</th>    <td>    0.0068</td> <td>    0.003</td> <td>    1.939</td> <td> 0.053</td> <td>-7.35e-05</td> <td>    0.014</td>\n",
       "</tr>\n",
       "<tr>\n",
       "  <th>x10</th>   <td>    0.0044</td> <td>    0.003</td> <td>    1.507</td> <td> 0.132</td> <td>   -0.001</td> <td>    0.010</td>\n",
       "</tr>\n",
       "<tr>\n",
       "  <th>x11</th>   <td> -5.94e-07</td> <td> 1.05e-07</td> <td>   -5.640</td> <td> 0.000</td> <td>   -8e-07</td> <td>-3.88e-07</td>\n",
       "</tr>\n",
       "<tr>\n",
       "  <th>x12</th>   <td> 8.992e-08</td> <td> 1.13e-07</td> <td>    0.795</td> <td> 0.427</td> <td>-1.32e-07</td> <td> 3.12e-07</td>\n",
       "</tr>\n",
       "<tr>\n",
       "  <th>x13</th>   <td>-4.129e-07</td> <td> 1.32e-07</td> <td>   -3.139</td> <td> 0.002</td> <td>-6.71e-07</td> <td>-1.55e-07</td>\n",
       "</tr>\n",
       "<tr>\n",
       "  <th>x14</th>   <td>-2.234e-07</td> <td> 1.38e-07</td> <td>   -1.614</td> <td> 0.107</td> <td>-4.95e-07</td> <td> 4.79e-08</td>\n",
       "</tr>\n",
       "<tr>\n",
       "  <th>x15</th>   <td>-4.273e-07</td> <td> 1.53e-07</td> <td>   -2.790</td> <td> 0.005</td> <td>-7.28e-07</td> <td>-1.27e-07</td>\n",
       "</tr>\n",
       "<tr>\n",
       "  <th>x16</th>   <td>-2.909e-07</td> <td> 1.31e-07</td> <td>   -2.212</td> <td> 0.027</td> <td>-5.49e-07</td> <td>-3.32e-08</td>\n",
       "</tr>\n",
       "</table>\n",
       "<table class=\"simpletable\">\n",
       "<tr>\n",
       "  <th>Omnibus:</th>       <td>4717.960</td> <th>  Durbin-Watson:     </th> <td>   2.013</td>\n",
       "</tr>\n",
       "<tr>\n",
       "  <th>Prob(Omnibus):</th>  <td> 0.000</td>  <th>  Jarque-Bera (JB):  </th> <td>7362.837</td>\n",
       "</tr>\n",
       "<tr>\n",
       "  <th>Skew:</th>           <td> 1.210</td>  <th>  Prob(JB):          </th> <td>    0.00</td>\n",
       "</tr>\n",
       "<tr>\n",
       "  <th>Kurtosis:</th>       <td> 3.186</td>  <th>  Cond. No.          </th> <td>9.87e+05</td>\n",
       "</tr>\n",
       "</table>"
      ],
      "text/plain": [
       "<class 'statsmodels.iolib.summary.Summary'>\n",
       "\"\"\"\n",
       "                            OLS Regression Results                            \n",
       "==============================================================================\n",
       "Dep. Variable:                      y   R-squared:                       0.122\n",
       "Model:                            OLS   Adj. R-squared:                  0.122\n",
       "Method:                 Least Squares   F-statistic:                     260.7\n",
       "Date:                Thu, 31 May 2018   Prob (F-statistic):               0.00\n",
       "Time:                        08:47:03   Log-Likelihood:                -14234.\n",
       "No. Observations:               30000   AIC:                         2.850e+04\n",
       "Df Residuals:                   29983   BIC:                         2.864e+04\n",
       "Df Model:                          16                                         \n",
       "Covariance Type:            nonrobust                                         \n",
       "==============================================================================\n",
       "                 coef    std err          t      P>|t|      [0.025      0.975]\n",
       "------------------------------------------------------------------------------\n",
       "const          0.3004      0.018     16.658      0.000       0.265       0.336\n",
       "x1         -1.091e-07    2.6e-07     -0.419      0.675   -6.19e-07    4.01e-07\n",
       "x2            -0.0147      0.005     -3.172      0.002      -0.024      -0.006\n",
       "x3            -0.0122      0.003     -4.170      0.000      -0.018      -0.006\n",
       "x4            -0.0221      0.005     -4.653      0.000      -0.031      -0.013\n",
       "x5             0.0013      0.000      4.598      0.000       0.001       0.002\n",
       "x6             0.0970      0.003     35.179      0.000       0.092       0.102\n",
       "x7             0.0208      0.003      6.315      0.000       0.014       0.027\n",
       "x8             0.0130      0.004      3.655      0.000       0.006       0.020\n",
       "x9             0.0068      0.003      1.939      0.053   -7.35e-05       0.014\n",
       "x10            0.0044      0.003      1.507      0.132      -0.001       0.010\n",
       "x11         -5.94e-07   1.05e-07     -5.640      0.000      -8e-07   -3.88e-07\n",
       "x12         8.992e-08   1.13e-07      0.795      0.427   -1.32e-07    3.12e-07\n",
       "x13        -4.129e-07   1.32e-07     -3.139      0.002   -6.71e-07   -1.55e-07\n",
       "x14        -2.234e-07   1.38e-07     -1.614      0.107   -4.95e-07    4.79e-08\n",
       "x15        -4.273e-07   1.53e-07     -2.790      0.005   -7.28e-07   -1.27e-07\n",
       "x16        -2.909e-07   1.31e-07     -2.212      0.027   -5.49e-07   -3.32e-08\n",
       "==============================================================================\n",
       "Omnibus:                     4717.960   Durbin-Watson:                   2.013\n",
       "Prob(Omnibus):                  0.000   Jarque-Bera (JB):             7362.837\n",
       "Skew:                           1.210   Prob(JB):                         0.00\n",
       "Kurtosis:                       3.186   Cond. No.                     9.87e+05\n",
       "==============================================================================\n",
       "\n",
       "Warnings:\n",
       "[1] Standard Errors assume that the covariance matrix of the errors is correctly specified.\n",
       "[2] The condition number is large, 9.87e+05. This might indicate that there are\n",
       "strong multicollinearity or other numerical problems.\n",
       "\"\"\""
      ]
     },
     "execution_count": 9,
     "metadata": {},
     "output_type": "execute_result"
    }
   ],
   "source": [
    "X_opt = X[:, [0,1,3,4,5,6,7,8,9,10,12,14,15,20,21,23,24]]\n",
    "reg_ols = sm.OLS(endog=y, exog=X_opt).fit() \n",
    "reg_ols.summary()"
   ]
  },
  {
   "cell_type": "code",
   "execution_count": 10,
   "metadata": {},
   "outputs": [],
   "source": [
    "from sklearn.model_selection import train_test_split\n",
    "X_train, X_test, y_train, y_test = train_test_split(X_opt, y, test_size= 0.2, random_state = 0)"
   ]
  },
  {
   "cell_type": "code",
   "execution_count": 11,
   "metadata": {},
   "outputs": [
    {
     "name": "stderr",
     "output_type": "stream",
     "text": [
      "C:\\Users\\tabme\\Anaconda3\\lib\\site-packages\\sklearn\\utils\\validation.py:475: DataConversionWarning: Data with input dtype int64 was converted to float64 by StandardScaler.\n",
      "  warnings.warn(msg, DataConversionWarning)\n"
     ]
    }
   ],
   "source": [
    "from sklearn.preprocessing import StandardScaler\n",
    "sc = StandardScaler()\n",
    "X_train= sc.fit_transform(X_train)\n",
    "X_test= sc.fit_transform(X_test)"
   ]
  },
  {
   "cell_type": "code",
   "execution_count": 12,
   "metadata": {},
   "outputs": [
    {
     "data": {
      "text/plain": [
       "LogisticRegression(C=1.0, class_weight=None, dual=False, fit_intercept=True,\n",
       "          intercept_scaling=1, max_iter=100, multi_class='ovr', n_jobs=1,\n",
       "          penalty='l2', random_state=0, solver='liblinear', tol=0.0001,\n",
       "          verbose=0, warm_start=False)"
      ]
     },
     "execution_count": 12,
     "metadata": {},
     "output_type": "execute_result"
    }
   ],
   "source": [
    "from sklearn.linear_model import LogisticRegression \n",
    "clf = LogisticRegression(random_state= 0)\n",
    "clf.fit(X_train, y_train)"
   ]
  },
  {
   "cell_type": "code",
   "execution_count": 13,
   "metadata": {},
   "outputs": [],
   "source": [
    "y_pred = clf.predict(X_test)"
   ]
  },
  {
   "cell_type": "code",
   "execution_count": 14,
   "metadata": {},
   "outputs": [
    {
     "data": {
      "text/plain": [
       "array([[4593,  110],\n",
       "       [ 983,  314]], dtype=int64)"
      ]
     },
     "execution_count": 14,
     "metadata": {},
     "output_type": "execute_result"
    }
   ],
   "source": [
    "from sklearn.metrics import confusion_matrix\n",
    "confusion_matrix(y_test, y_pred)"
   ]
  },
  {
   "cell_type": "code",
   "execution_count": 15,
   "metadata": {},
   "outputs": [
    {
     "name": "stdout",
     "output_type": "stream",
     "text": [
      "0.8075421114005403\n",
      "0.7074578366438204\n",
      "0.23113251962251685\n",
      "0.3481463951146958\n"
     ]
    }
   ],
   "source": [
    "accuracy = cross_val_score(clf, X_train, y_train, cv=10, scoring='accuracy')\n",
    "precision = cross_val_score(clf, X_train, y_train, cv=10, scoring='precision')\n",
    "recall = cross_val_score(clf, X_train, y_train, cv=10, scoring='recall')\n",
    "f1 = cross_val_score(clf, X_train, y_train, cv=10, scoring='f1')\n",
    "print(accuracy.mean())\n",
    "print(precision.mean())\n",
    "print(recall.mean())\n",
    "print(f1.mean())"
   ]
  },
  {
   "cell_type": "code",
   "execution_count": 16,
   "metadata": {},
   "outputs": [
    {
     "data": {
      "text/plain": [
       "KNeighborsClassifier(algorithm='auto', leaf_size=30, metric='minkowski',\n",
       "           metric_params=None, n_jobs=1, n_neighbors=5, p=2,\n",
       "           weights='uniform')"
      ]
     },
     "execution_count": 16,
     "metadata": {},
     "output_type": "execute_result"
    }
   ],
   "source": [
    "from sklearn.neighbors import KNeighborsClassifier\n",
    "classifier = KNeighborsClassifier(n_neighbors = 5, metric = 'minkowski', p = 2)\n",
    "classifier.fit(X_train, y_train)"
   ]
  },
  {
   "cell_type": "code",
   "execution_count": 17,
   "metadata": {},
   "outputs": [],
   "source": [
    "y_pred = classifier.predict(X_test)"
   ]
  },
  {
   "cell_type": "code",
   "execution_count": 18,
   "metadata": {},
   "outputs": [
    {
     "data": {
      "text/plain": [
       "array([[4325,  378],\n",
       "       [ 820,  477]], dtype=int64)"
      ]
     },
     "execution_count": 18,
     "metadata": {},
     "output_type": "execute_result"
    }
   ],
   "source": [
    "from sklearn.metrics import confusion_matrix\n",
    "confusion_matrix(y_test, y_pred)"
   ]
  },
  {
   "cell_type": "code",
   "execution_count": 19,
   "metadata": {},
   "outputs": [
    {
     "name": "stdout",
     "output_type": "stream",
     "text": [
      "0.7943337080874493\n",
      "0.5597381951585212\n",
      "0.35194011706754924\n",
      "0.43198806496290854\n"
     ]
    }
   ],
   "source": [
    "accuracy = cross_val_score(classifier, X_train, y_train, cv=10, scoring='accuracy')\n",
    "precision = cross_val_score(classifier, X_train, y_train, cv=10, scoring='precision')\n",
    "recall = cross_val_score(classifier, X_train, y_train, cv=10, scoring='recall')\n",
    "f1 = cross_val_score(classifier, X_train, y_train, cv=10, scoring='f1')\n",
    "print(accuracy.mean())\n",
    "print(precision.mean())\n",
    "print(recall.mean())\n",
    "print(f1.mean())"
   ]
  },
  {
   "cell_type": "code",
   "execution_count": 20,
   "metadata": {},
   "outputs": [
    {
     "data": {
      "text/plain": [
       "SVC(C=1.0, cache_size=200, class_weight=None, coef0=0.0,\n",
       "  decision_function_shape='ovr', degree=3, gamma='auto', kernel='linear',\n",
       "  max_iter=-1, probability=False, random_state=0, shrinking=True,\n",
       "  tol=0.001, verbose=False)"
      ]
     },
     "execution_count": 20,
     "metadata": {},
     "output_type": "execute_result"
    }
   ],
   "source": [
    "from sklearn.svm import SVC\n",
    "classifier = SVC(kernel = 'linear', random_state = 0)\n",
    "classifier.fit(X_train, y_train)"
   ]
  },
  {
   "cell_type": "code",
   "execution_count": 21,
   "metadata": {},
   "outputs": [],
   "source": [
    "y_pred = classifier.predict(X_test)"
   ]
  },
  {
   "cell_type": "code",
   "execution_count": 22,
   "metadata": {},
   "outputs": [
    {
     "data": {
      "text/plain": [
       "array([[4594,  109],\n",
       "       [ 986,  311]], dtype=int64)"
      ]
     },
     "execution_count": 22,
     "metadata": {},
     "output_type": "execute_result"
    }
   ],
   "source": [
    "from sklearn.metrics import confusion_matrix\n",
    "confusion_matrix(y_test, y_pred)"
   ]
  },
  {
   "cell_type": "code",
   "execution_count": 23,
   "metadata": {},
   "outputs": [
    {
     "name": "stdout",
     "output_type": "stream",
     "text": [
      "0.8067503058449607\n",
      "0.6987805508968629\n",
      "0.2320684978673469\n",
      "0.34824682254105677\n"
     ]
    }
   ],
   "source": [
    "accuracy = cross_val_score(classifier, X_train, y_train, cv=10, scoring='accuracy')\n",
    "precision = cross_val_score(classifier, X_train, y_train, cv=10, scoring='precision')\n",
    "recall = cross_val_score(classifier, X_train, y_train, cv=10, scoring='recall')\n",
    "f1 = cross_val_score(classifier, X_train, y_train, cv=10, scoring='f1')\n",
    "print(accuracy.mean())\n",
    "print(precision.mean())\n",
    "print(recall.mean())\n",
    "print(f1.mean())"
   ]
  },
  {
   "cell_type": "code",
   "execution_count": 24,
   "metadata": {},
   "outputs": [
    {
     "data": {
      "text/plain": [
       "SVC(C=1.0, cache_size=200, class_weight=None, coef0=0.0,\n",
       "  decision_function_shape='ovr', degree=3, gamma='auto', kernel='rbf',\n",
       "  max_iter=-1, probability=False, random_state=0, shrinking=True,\n",
       "  tol=0.001, verbose=False)"
      ]
     },
     "execution_count": 24,
     "metadata": {},
     "output_type": "execute_result"
    }
   ],
   "source": [
    "from sklearn.svm import SVC\n",
    "classifier = SVC(kernel = 'rbf', random_state = 0)\n",
    "classifier.fit(X_train, y_train)"
   ]
  },
  {
   "cell_type": "code",
   "execution_count": 25,
   "metadata": {},
   "outputs": [],
   "source": [
    "y_pred = classifier.predict(X_test)"
   ]
  },
  {
   "cell_type": "code",
   "execution_count": 26,
   "metadata": {},
   "outputs": [
    {
     "data": {
      "text/plain": [
       "array([[4503,  200],\n",
       "       [ 845,  452]], dtype=int64)"
      ]
     },
     "execution_count": 26,
     "metadata": {},
     "output_type": "execute_result"
    }
   ],
   "source": [
    "from sklearn.metrics import confusion_matrix\n",
    "confusion_matrix(y_test, y_pred)"
   ]
  },
  {
   "cell_type": "code",
   "execution_count": 27,
   "metadata": {},
   "outputs": [
    {
     "name": "stdout",
     "output_type": "stream",
     "text": [
      "0.8192504450666283\n",
      "0.6919027945577455\n",
      "0.3384545115978385\n",
      "0.45436091196991946\n"
     ]
    }
   ],
   "source": [
    "accuracy = cross_val_score(classifier, X_train, y_train, cv=10, scoring='accuracy')\n",
    "precision = cross_val_score(classifier, X_train, y_train, cv=10, scoring='precision')\n",
    "recall = cross_val_score(classifier, X_train, y_train, cv=10, scoring='recall')\n",
    "f1 = cross_val_score(classifier, X_train, y_train, cv=10, scoring='f1')\n",
    "print(accuracy.mean())\n",
    "print(precision.mean())\n",
    "print(recall.mean())\n",
    "print(f1.mean())"
   ]
  },
  {
   "cell_type": "code",
   "execution_count": 28,
   "metadata": {},
   "outputs": [
    {
     "data": {
      "text/plain": [
       "GaussianNB(priors=None)"
      ]
     },
     "execution_count": 28,
     "metadata": {},
     "output_type": "execute_result"
    }
   ],
   "source": [
    "from sklearn.naive_bayes import GaussianNB\n",
    "classifier = GaussianNB()\n",
    "classifier.fit(X_train, y_train)"
   ]
  },
  {
   "cell_type": "code",
   "execution_count": 29,
   "metadata": {},
   "outputs": [],
   "source": [
    "y_pred = classifier.predict(X_test)"
   ]
  },
  {
   "cell_type": "code",
   "execution_count": 30,
   "metadata": {},
   "outputs": [
    {
     "data": {
      "text/plain": [
       "array([[3965,  738],\n",
       "       [ 586,  711]], dtype=int64)"
      ]
     },
     "execution_count": 30,
     "metadata": {},
     "output_type": "execute_result"
    }
   ],
   "source": [
    "from sklearn.metrics import confusion_matrix\n",
    "confusion_matrix(y_test, y_pred)"
   ]
  },
  {
   "cell_type": "code",
   "execution_count": 31,
   "metadata": {},
   "outputs": [
    {
     "name": "stdout",
     "output_type": "stream",
     "text": [
      "0.7733750442202044\n",
      "0.4918140629932083\n",
      "0.5587206891947917\n",
      "0.5230423154805981\n"
     ]
    }
   ],
   "source": [
    "accuracy = cross_val_score(classifier, X_train, y_train, cv=10, scoring='accuracy')\n",
    "precision = cross_val_score(classifier, X_train, y_train, cv=10, scoring='precision')\n",
    "recall = cross_val_score(classifier, X_train, y_train, cv=10, scoring='recall')\n",
    "f1 = cross_val_score(classifier, X_train, y_train, cv=10, scoring='f1')\n",
    "print(accuracy.mean())\n",
    "print(precision.mean())\n",
    "print(recall.mean())\n",
    "print(f1.mean())"
   ]
  },
  {
   "cell_type": "code",
   "execution_count": 32,
   "metadata": {},
   "outputs": [
    {
     "data": {
      "text/plain": [
       "DecisionTreeClassifier(class_weight=None, criterion='entropy', max_depth=None,\n",
       "            max_features=None, max_leaf_nodes=None,\n",
       "            min_impurity_decrease=0.0, min_impurity_split=None,\n",
       "            min_samples_leaf=1, min_samples_split=2,\n",
       "            min_weight_fraction_leaf=0.0, presort=False, random_state=0,\n",
       "            splitter='best')"
      ]
     },
     "execution_count": 32,
     "metadata": {},
     "output_type": "execute_result"
    }
   ],
   "source": [
    "from sklearn.tree import DecisionTreeClassifier\n",
    "classifier = DecisionTreeClassifier(criterion = 'entropy', random_state = 0)\n",
    "classifier.fit(X_train, y_train)"
   ]
  },
  {
   "cell_type": "code",
   "execution_count": 33,
   "metadata": {},
   "outputs": [],
   "source": [
    "y_pred = classifier.predict(X_test)"
   ]
  },
  {
   "cell_type": "code",
   "execution_count": 34,
   "metadata": {},
   "outputs": [
    {
     "data": {
      "text/plain": [
       "array([[3780,  923],\n",
       "       [ 759,  538]], dtype=int64)"
      ]
     },
     "execution_count": 34,
     "metadata": {},
     "output_type": "execute_result"
    }
   ],
   "source": [
    "from sklearn.metrics import confusion_matrix\n",
    "confusion_matrix(y_test, y_pred)"
   ]
  },
  {
   "cell_type": "code",
   "execution_count": 35,
   "metadata": {},
   "outputs": [
    {
     "name": "stdout",
     "output_type": "stream",
     "text": [
      "0.7255420215495407\n",
      "0.38718517147176384\n",
      "0.3998882728671712\n",
      "0.39326857199113774\n"
     ]
    }
   ],
   "source": [
    "accuracy = cross_val_score(classifier, X_train, y_train, cv=10, scoring='accuracy')\n",
    "precision = cross_val_score(classifier, X_train, y_train, cv=10, scoring='precision')\n",
    "recall = cross_val_score(classifier, X_train, y_train, cv=10, scoring='recall')\n",
    "f1 = cross_val_score(classifier, X_train, y_train, cv=10, scoring='f1')\n",
    "print(accuracy.mean())\n",
    "print(precision.mean())\n",
    "print(recall.mean())\n",
    "print(f1.mean())"
   ]
  },
  {
   "cell_type": "code",
   "execution_count": 36,
   "metadata": {},
   "outputs": [
    {
     "data": {
      "text/plain": [
       "RandomForestClassifier(bootstrap=True, class_weight=None, criterion='entropy',\n",
       "            max_depth=None, max_features='auto', max_leaf_nodes=None,\n",
       "            min_impurity_decrease=0.0, min_impurity_split=None,\n",
       "            min_samples_leaf=1, min_samples_split=2,\n",
       "            min_weight_fraction_leaf=0.0, n_estimators=100, n_jobs=1,\n",
       "            oob_score=False, random_state=0, verbose=0, warm_start=False)"
      ]
     },
     "execution_count": 36,
     "metadata": {},
     "output_type": "execute_result"
    }
   ],
   "source": [
    "from sklearn.ensemble import RandomForestClassifier\n",
    "classifier = RandomForestClassifier(n_estimators = 100, criterion = 'entropy', random_state = 0)\n",
    "classifier.fit(X_train, y_train)"
   ]
  },
  {
   "cell_type": "code",
   "execution_count": 37,
   "metadata": {},
   "outputs": [],
   "source": [
    "y_pred = classifier.predict(X_test)"
   ]
  },
  {
   "cell_type": "code",
   "execution_count": 38,
   "metadata": {},
   "outputs": [
    {
     "data": {
      "text/plain": [
       "array([[4503,  200],\n",
       "       [ 851,  446]], dtype=int64)"
      ]
     },
     "execution_count": 38,
     "metadata": {},
     "output_type": "execute_result"
    }
   ],
   "source": [
    "from sklearn.metrics import confusion_matrix\n",
    "confusion_matrix(y_test, y_pred)"
   ]
  },
  {
   "cell_type": "code",
   "execution_count": 39,
   "metadata": {},
   "outputs": [
    {
     "name": "stdout",
     "output_type": "stream",
     "text": [
      "0.8150424241176083\n",
      "0.6496005234672505\n",
      "0.3663634574980149\n",
      "0.46830663544101947\n"
     ]
    }
   ],
   "source": [
    "accuracy = cross_val_score(classifier, X_train, y_train, cv=10, scoring='accuracy')\n",
    "precision = cross_val_score(classifier, X_train, y_train, cv=10, scoring='precision')\n",
    "recall = cross_val_score(classifier, X_train, y_train, cv=10, scoring='recall')\n",
    "f1 = cross_val_score(classifier, X_train, y_train, cv=10, scoring='f1')\n",
    "print(accuracy.mean())\n",
    "print(precision.mean())\n",
    "print(recall.mean())\n",
    "print(f1.mean())"
   ]
  },
  {
   "cell_type": "code",
   "execution_count": null,
   "metadata": {},
   "outputs": [],
   "source": []
  }
 ],
 "metadata": {
  "kernelspec": {
   "display_name": "Python 3",
   "language": "python",
   "name": "python3"
  },
  "language_info": {
   "codemirror_mode": {
    "name": "ipython",
    "version": 3
   },
   "file_extension": ".py",
   "mimetype": "text/x-python",
   "name": "python",
   "nbconvert_exporter": "python",
   "pygments_lexer": "ipython3",
   "version": "3.6.3"
  }
 },
 "nbformat": 4,
 "nbformat_minor": 2
}
